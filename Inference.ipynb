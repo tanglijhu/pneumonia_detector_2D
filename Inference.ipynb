{
 "cells": [
  {
   "cell_type": "code",
   "execution_count": 1,
   "metadata": {},
   "outputs": [
    {
     "name": "stderr",
     "output_type": "stream",
     "text": [
      "Using TensorFlow backend.\n"
     ]
    }
   ],
   "source": [
    "import numpy as np\n",
    "import pandas as pd\n",
    "import pydicom\n",
    "%matplotlib inline\n",
    "import matplotlib.pyplot as plt\n",
    "import keras\n",
    "\n",
    "from keras.models import model_from_json\n",
    "from skimage.transform import resize"
   ]
  },
  {
   "cell_type": "code",
   "execution_count": 2,
   "metadata": {},
   "outputs": [],
   "source": [
    "# This function reads in a .dcm file, checks the important fields for our device, and returns a numpy array\n",
    "# of just the imaging data\n",
    "def check_dicom(filename):   \n",
    "    print('Load file {} ...'.format(filename))\n",
    "    ds = pydicom.dcmread(filename)\n",
    "    \n",
    "    # Check Patient Position\n",
    "    if ds.PatientPosition not in ['AP', 'PA']:\n",
    "        print(\"Error in file {} - Patient Position is invalid (Expected: AP/PA - ACTUAL: {})\".format(filename, ds.PatientPosition))\n",
    "        return None\n",
    "    \n",
    "    # Check Image Type\n",
    "    if ds.Modality != 'DX':\n",
    "        print(\"Error in file {} - Image Type is invalid. (Expected: DX - ACTUAL: {})\".format(filename, ds.Modality))\n",
    "        return None\n",
    "    \n",
    "    # Check Body Part\n",
    "    if ds.BodyPartExamined != 'CHEST':\n",
    "        print(\"Error in file {} - Body Part Examined is invalid. (Expected: CHEST - ACTUAL: {})\".format(filename, ds.BodyPartExamined))\n",
    "        return None\n",
    "    \n",
    "    img = ds.pixel_array\n",
    "    return img\n",
    "    \n",
    "    \n",
    "# This function takes the numpy array output by check_dicom and \n",
    "# runs the appropriate pre-processing needed for our model input\n",
    "def preprocess_image(img,img_mean,img_std,img_size): \n",
    "    proc_img = (img/255.0-img_mean)/img_std\n",
    "    proc_img = resize(proc_img, img_size)\n",
    "    \n",
    "    return proc_img\n",
    "\n",
    "# This function loads in our trained model w/ weights and compiles it \n",
    "def load_model(model_path, weight_path):\n",
    "    with open(model_path, 'r') as json_file:\n",
    "        model_json = json_file.read()\n",
    "        model = model_from_json(model_json)\n",
    "        model.load_weights(weight_path)    \n",
    "    \n",
    "    return model\n",
    "\n",
    "# This function uses our device's threshold parameters to predict whether or not\n",
    "# the image shows the presence of pneumonia using our trained model\n",
    "def predict_image(model, img, thresh): \n",
    "    pred_Y = model.predict(img)   \n",
    "    if pred_Y > thresh:\n",
    "        return 'Pneumonia'\n",
    "    else:\n",
    "        return 'Not pneumonia'\n",
    "    \n",
    "    return prediction\n"
   ]
  },
  {
   "cell_type": "code",
   "execution_count": 3,
   "metadata": {},
   "outputs": [
    {
     "name": "stdout",
     "output_type": "stream",
     "text": [
      "Load file test1.dcm ...\n",
      "Not pneumonia\n",
      "Load file test2.dcm ...\n",
      "Not pneumonia\n",
      "Load file test3.dcm ...\n",
      "Not pneumonia\n",
      "Load file test4.dcm ...\n",
      "Error in file test4.dcm - Body Part Examined is invalid. (Expected: CHEST - ACTUAL: RIBCAGE)\n",
      "Load file test5.dcm ...\n",
      "Error in file test5.dcm - Image Type is invalid. (Expected: DX - ACTUAL: CT)\n",
      "Load file test6.dcm ...\n",
      "Error in file test6.dcm - Patient Position is invalid (Expected: AP/PA - ACTUAL: XX)\n"
     ]
    }
   ],
   "source": [
    "test_dicoms = ['test1.dcm','test2.dcm','test3.dcm','test4.dcm','test5.dcm','test6.dcm']\n",
    "\n",
    "model_path = 'my_model.json'\n",
    "weight_path = 'xray_class_my_model.best.hdf5'\n",
    "\n",
    "IMG_SIZE=(1,224,224,3) # This might be different if you did not use vgg16\n",
    "img_mean = 0.492 # loads the mean image value they used during training preprocessing\n",
    "img_std = 0.250 # loads the std dev image value they used during training preprocessing\n",
    "\n",
    "my_model = load_model(model_path, weight_path) #loads model\n",
    "thresh = 0.72 #loads the threshold they chose for model classification \n",
    "\n",
    "# use the .dcm files to test your prediction\n",
    "for i in test_dicoms:\n",
    "    \n",
    "    img = np.array([])\n",
    "    img = check_dicom(i)\n",
    "    \n",
    "    if img is None:\n",
    "        continue\n",
    "        \n",
    "    img_proc = preprocess_image(img,img_mean,img_std,IMG_SIZE)\n",
    "    pred = predict_image(my_model,img_proc,thresh)\n",
    "    print(pred)"
   ]
  },
  {
   "cell_type": "code",
   "execution_count": null,
   "metadata": {},
   "outputs": [],
   "source": []
  }
 ],
 "metadata": {
  "kernelspec": {
   "display_name": "Python 3",
   "language": "python",
   "name": "python3"
  },
  "language_info": {
   "codemirror_mode": {
    "name": "ipython",
    "version": 3
   },
   "file_extension": ".py",
   "mimetype": "text/x-python",
   "name": "python",
   "nbconvert_exporter": "python",
   "pygments_lexer": "ipython3",
   "version": "3.7.6"
  }
 },
 "nbformat": 4,
 "nbformat_minor": 2
}
